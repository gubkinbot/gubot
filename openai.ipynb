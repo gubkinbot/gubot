{
 "cells": [
  {
   "cell_type": "code",
   "execution_count": 64,
   "id": "b2e6f3c0-ea1e-446e-97a2-e5d79d6aea55",
   "metadata": {
    "execution": {
     "iopub.execute_input": "2023-03-09T19:50:54.803265Z",
     "iopub.status.busy": "2023-03-09T19:50:54.803265Z",
     "iopub.status.idle": "2023-03-09T19:50:54.834876Z",
     "shell.execute_reply": "2023-03-09T19:50:54.834876Z",
     "shell.execute_reply.started": "2023-03-09T19:50:54.803265Z"
    },
    "tags": []
   },
   "outputs": [],
   "source": [
    "import openai\n",
    "import yaml\n",
    "import pandas as pd\n",
    "import time"
   ]
  },
  {
   "cell_type": "code",
   "execution_count": 66,
   "id": "379116e7-df64-4b46-863e-97bbfa1c54f3",
   "metadata": {
    "execution": {
     "iopub.execute_input": "2023-03-09T19:51:40.290178Z",
     "iopub.status.busy": "2023-03-09T19:51:40.289182Z",
     "iopub.status.idle": "2023-03-09T19:51:45.322615Z",
     "shell.execute_reply": "2023-03-09T19:51:45.320644Z",
     "shell.execute_reply.started": "2023-03-09T19:51:40.290178Z"
    },
    "tags": []
   },
   "outputs": [],
   "source": [
    "time.sleep(5)"
   ]
  },
  {
   "cell_type": "code",
   "execution_count": 38,
   "id": "c19f01df-2cd4-4590-a5a0-42ccffad73e7",
   "metadata": {
    "execution": {
     "iopub.execute_input": "2023-03-09T17:22:21.921588Z",
     "iopub.status.busy": "2023-03-09T17:22:21.920604Z",
     "iopub.status.idle": "2023-03-09T17:22:21.935597Z",
     "shell.execute_reply": "2023-03-09T17:22:21.933624Z",
     "shell.execute_reply.started": "2023-03-09T17:22:21.921588Z"
    },
    "tags": []
   },
   "outputs": [],
   "source": [
    "with open('keys.yaml', 'r') as f:\n",
    "    secrets = yaml.safe_load(f)\n",
    "\n",
    "OPENAI_KEY = secrets.get('OPENAI_KEY')\n",
    "openai.api_key = OPENAI_KEY"
   ]
  },
  {
   "cell_type": "code",
   "execution_count": 55,
   "id": "8c386ed8-20d5-46b9-8282-c72b38534eb9",
   "metadata": {
    "execution": {
     "iopub.execute_input": "2023-03-09T19:42:07.414984Z",
     "iopub.status.busy": "2023-03-09T19:42:07.414984Z",
     "iopub.status.idle": "2023-03-09T19:42:07.430640Z",
     "shell.execute_reply": "2023-03-09T19:42:07.430640Z",
     "shell.execute_reply.started": "2023-03-09T19:42:07.414984Z"
    },
    "tags": []
   },
   "outputs": [],
   "source": [
    "temperatures = [0.8, 0.9, 1, 1.1, 1.2]\n",
    "presence_penaltys = [0.5, 0, -0.5]\n",
    "frequency_penaltys = [0.5, 0, -0.5]"
   ]
  },
  {
   "cell_type": "code",
   "execution_count": 67,
   "id": "b2b3c7e6-76b7-4a3b-8594-12214ca1161d",
   "metadata": {
    "execution": {
     "iopub.execute_input": "2023-03-09T19:51:59.630379Z",
     "iopub.status.busy": "2023-03-09T19:51:59.630379Z",
     "iopub.status.idle": "2023-03-09T19:51:59.661591Z",
     "shell.execute_reply": "2023-03-09T19:51:59.661591Z",
     "shell.execute_reply.started": "2023-03-09T19:51:59.630379Z"
    },
    "tags": []
   },
   "outputs": [],
   "source": [
    "summary = pd.DataFrame(columns=['temperature', 'presence_penalty', 'frequency_penalty', 'answer_1', 'answer_2', 'answer_3'])"
   ]
  },
  {
   "cell_type": "code",
   "execution_count": 61,
   "id": "996fa331-0c9a-4daf-9127-27080f206073",
   "metadata": {
    "execution": {
     "iopub.execute_input": "2023-03-09T19:44:36.590940Z",
     "iopub.status.busy": "2023-03-09T19:44:36.575330Z",
     "iopub.status.idle": "2023-03-09T19:44:36.622211Z",
     "shell.execute_reply": "2023-03-09T19:44:36.622211Z",
     "shell.execute_reply.started": "2023-03-09T19:44:36.590940Z"
    },
    "tags": []
   },
   "outputs": [
    {
     "name": "stderr",
     "output_type": "stream",
     "text": [
      "C:\\Users\\ivan\\AppData\\Local\\Temp\\ipykernel_18132\\1554486639.py:1: FutureWarning: The frame.append method is deprecated and will be removed from pandas in a future version. Use pandas.concat instead.\n",
      "  summary.append({'temperature': 1, 'presence_penalty': 2, 'frequency_penalty': 3, 'answer_1': 4, 'answer_2': 5, 'answer_3': 6}, ignore_index=True)\n"
     ]
    },
    {
     "data": {
      "text/html": [
       "<div>\n",
       "<style scoped>\n",
       "    .dataframe tbody tr th:only-of-type {\n",
       "        vertical-align: middle;\n",
       "    }\n",
       "\n",
       "    .dataframe tbody tr th {\n",
       "        vertical-align: top;\n",
       "    }\n",
       "\n",
       "    .dataframe thead th {\n",
       "        text-align: right;\n",
       "    }\n",
       "</style>\n",
       "<table border=\"1\" class=\"dataframe\">\n",
       "  <thead>\n",
       "    <tr style=\"text-align: right;\">\n",
       "      <th></th>\n",
       "      <th>temperature</th>\n",
       "      <th>presence_penalty</th>\n",
       "      <th>frequency_penalty</th>\n",
       "      <th>answer_1</th>\n",
       "      <th>answer_2</th>\n",
       "      <th>answer_3</th>\n",
       "    </tr>\n",
       "  </thead>\n",
       "  <tbody>\n",
       "    <tr>\n",
       "      <th>0</th>\n",
       "      <td>1</td>\n",
       "      <td>2</td>\n",
       "      <td>3</td>\n",
       "      <td>4</td>\n",
       "      <td>5</td>\n",
       "      <td>6</td>\n",
       "    </tr>\n",
       "  </tbody>\n",
       "</table>\n",
       "</div>"
      ],
      "text/plain": [
       "  temperature presence_penalty frequency_penalty answer_1 answer_2 answer_3\n",
       "0           1                2                 3        4        5        6"
      ]
     },
     "execution_count": 61,
     "metadata": {},
     "output_type": "execute_result"
    }
   ],
   "source": [
    "summary.append({'temperature': 1, 'presence_penalty': 2, 'frequency_penalty': 3, 'answer_1': 4, 'answer_2': 5, 'answer_3': 6}, ignore_index=True)"
   ]
  },
  {
   "cell_type": "code",
   "execution_count": 68,
   "id": "da80254a-d973-49a8-b906-b2cb0909c512",
   "metadata": {
    "execution": {
     "iopub.execute_input": "2023-03-09T19:52:04.281982Z",
     "iopub.status.busy": "2023-03-09T19:52:04.266352Z",
     "iopub.status.idle": "2023-03-09T20:03:10.205582Z",
     "shell.execute_reply": "2023-03-09T20:03:10.205582Z",
     "shell.execute_reply.started": "2023-03-09T19:52:04.281982Z"
    },
    "tags": []
   },
   "outputs": [
    {
     "name": "stderr",
     "output_type": "stream",
     "text": [
      "C:\\Users\\ivan\\AppData\\Local\\Temp\\ipykernel_18132\\1245931703.py:15: FutureWarning: The frame.append method is deprecated and will be removed from pandas in a future version. Use pandas.concat instead.\n",
      "  summary = summary.append({'temperature': temperature,\n"
     ]
    },
    {
     "name": "stdout",
     "output_type": "stream",
     "text": [
      "0.8 0.5 0.5\n"
     ]
    },
    {
     "name": "stderr",
     "output_type": "stream",
     "text": [
      "C:\\Users\\ivan\\AppData\\Local\\Temp\\ipykernel_18132\\1245931703.py:15: FutureWarning: The frame.append method is deprecated and will be removed from pandas in a future version. Use pandas.concat instead.\n",
      "  summary = summary.append({'temperature': temperature,\n"
     ]
    },
    {
     "name": "stdout",
     "output_type": "stream",
     "text": [
      "0.8 0.5 0\n"
     ]
    },
    {
     "name": "stderr",
     "output_type": "stream",
     "text": [
      "C:\\Users\\ivan\\AppData\\Local\\Temp\\ipykernel_18132\\1245931703.py:15: FutureWarning: The frame.append method is deprecated and will be removed from pandas in a future version. Use pandas.concat instead.\n",
      "  summary = summary.append({'temperature': temperature,\n"
     ]
    },
    {
     "name": "stdout",
     "output_type": "stream",
     "text": [
      "0.8 0.5 -0.5\n"
     ]
    },
    {
     "name": "stderr",
     "output_type": "stream",
     "text": [
      "C:\\Users\\ivan\\AppData\\Local\\Temp\\ipykernel_18132\\1245931703.py:15: FutureWarning: The frame.append method is deprecated and will be removed from pandas in a future version. Use pandas.concat instead.\n",
      "  summary = summary.append({'temperature': temperature,\n"
     ]
    },
    {
     "name": "stdout",
     "output_type": "stream",
     "text": [
      "0.8 0 0.5\n"
     ]
    },
    {
     "name": "stderr",
     "output_type": "stream",
     "text": [
      "C:\\Users\\ivan\\AppData\\Local\\Temp\\ipykernel_18132\\1245931703.py:15: FutureWarning: The frame.append method is deprecated and will be removed from pandas in a future version. Use pandas.concat instead.\n",
      "  summary = summary.append({'temperature': temperature,\n"
     ]
    },
    {
     "name": "stdout",
     "output_type": "stream",
     "text": [
      "0.8 0 0\n"
     ]
    },
    {
     "name": "stderr",
     "output_type": "stream",
     "text": [
      "C:\\Users\\ivan\\AppData\\Local\\Temp\\ipykernel_18132\\1245931703.py:15: FutureWarning: The frame.append method is deprecated and will be removed from pandas in a future version. Use pandas.concat instead.\n",
      "  summary = summary.append({'temperature': temperature,\n"
     ]
    },
    {
     "name": "stdout",
     "output_type": "stream",
     "text": [
      "0.8 0 -0.5\n"
     ]
    },
    {
     "name": "stderr",
     "output_type": "stream",
     "text": [
      "C:\\Users\\ivan\\AppData\\Local\\Temp\\ipykernel_18132\\1245931703.py:15: FutureWarning: The frame.append method is deprecated and will be removed from pandas in a future version. Use pandas.concat instead.\n",
      "  summary = summary.append({'temperature': temperature,\n"
     ]
    },
    {
     "name": "stdout",
     "output_type": "stream",
     "text": [
      "0.8 -0.5 0.5\n"
     ]
    },
    {
     "name": "stderr",
     "output_type": "stream",
     "text": [
      "C:\\Users\\ivan\\AppData\\Local\\Temp\\ipykernel_18132\\1245931703.py:15: FutureWarning: The frame.append method is deprecated and will be removed from pandas in a future version. Use pandas.concat instead.\n",
      "  summary = summary.append({'temperature': temperature,\n"
     ]
    },
    {
     "name": "stdout",
     "output_type": "stream",
     "text": [
      "0.8 -0.5 0\n"
     ]
    },
    {
     "name": "stderr",
     "output_type": "stream",
     "text": [
      "C:\\Users\\ivan\\AppData\\Local\\Temp\\ipykernel_18132\\1245931703.py:15: FutureWarning: The frame.append method is deprecated and will be removed from pandas in a future version. Use pandas.concat instead.\n",
      "  summary = summary.append({'temperature': temperature,\n"
     ]
    },
    {
     "name": "stdout",
     "output_type": "stream",
     "text": [
      "0.8 -0.5 -0.5\n"
     ]
    },
    {
     "name": "stderr",
     "output_type": "stream",
     "text": [
      "C:\\Users\\ivan\\AppData\\Local\\Temp\\ipykernel_18132\\1245931703.py:15: FutureWarning: The frame.append method is deprecated and will be removed from pandas in a future version. Use pandas.concat instead.\n",
      "  summary = summary.append({'temperature': temperature,\n"
     ]
    },
    {
     "name": "stdout",
     "output_type": "stream",
     "text": [
      "0.9 0.5 0.5\n"
     ]
    },
    {
     "name": "stderr",
     "output_type": "stream",
     "text": [
      "C:\\Users\\ivan\\AppData\\Local\\Temp\\ipykernel_18132\\1245931703.py:15: FutureWarning: The frame.append method is deprecated and will be removed from pandas in a future version. Use pandas.concat instead.\n",
      "  summary = summary.append({'temperature': temperature,\n"
     ]
    },
    {
     "name": "stdout",
     "output_type": "stream",
     "text": [
      "0.9 0.5 0\n"
     ]
    },
    {
     "name": "stderr",
     "output_type": "stream",
     "text": [
      "C:\\Users\\ivan\\AppData\\Local\\Temp\\ipykernel_18132\\1245931703.py:15: FutureWarning: The frame.append method is deprecated and will be removed from pandas in a future version. Use pandas.concat instead.\n",
      "  summary = summary.append({'temperature': temperature,\n"
     ]
    },
    {
     "name": "stdout",
     "output_type": "stream",
     "text": [
      "0.9 0.5 -0.5\n"
     ]
    },
    {
     "name": "stderr",
     "output_type": "stream",
     "text": [
      "C:\\Users\\ivan\\AppData\\Local\\Temp\\ipykernel_18132\\1245931703.py:15: FutureWarning: The frame.append method is deprecated and will be removed from pandas in a future version. Use pandas.concat instead.\n",
      "  summary = summary.append({'temperature': temperature,\n"
     ]
    },
    {
     "name": "stdout",
     "output_type": "stream",
     "text": [
      "0.9 0 0.5\n"
     ]
    },
    {
     "name": "stderr",
     "output_type": "stream",
     "text": [
      "C:\\Users\\ivan\\AppData\\Local\\Temp\\ipykernel_18132\\1245931703.py:15: FutureWarning: The frame.append method is deprecated and will be removed from pandas in a future version. Use pandas.concat instead.\n",
      "  summary = summary.append({'temperature': temperature,\n"
     ]
    },
    {
     "name": "stdout",
     "output_type": "stream",
     "text": [
      "0.9 0 0\n"
     ]
    },
    {
     "name": "stderr",
     "output_type": "stream",
     "text": [
      "C:\\Users\\ivan\\AppData\\Local\\Temp\\ipykernel_18132\\1245931703.py:15: FutureWarning: The frame.append method is deprecated and will be removed from pandas in a future version. Use pandas.concat instead.\n",
      "  summary = summary.append({'temperature': temperature,\n"
     ]
    },
    {
     "name": "stdout",
     "output_type": "stream",
     "text": [
      "0.9 0 -0.5\n"
     ]
    },
    {
     "name": "stderr",
     "output_type": "stream",
     "text": [
      "C:\\Users\\ivan\\AppData\\Local\\Temp\\ipykernel_18132\\1245931703.py:15: FutureWarning: The frame.append method is deprecated and will be removed from pandas in a future version. Use pandas.concat instead.\n",
      "  summary = summary.append({'temperature': temperature,\n"
     ]
    },
    {
     "name": "stdout",
     "output_type": "stream",
     "text": [
      "0.9 -0.5 0.5\n"
     ]
    },
    {
     "name": "stderr",
     "output_type": "stream",
     "text": [
      "C:\\Users\\ivan\\AppData\\Local\\Temp\\ipykernel_18132\\1245931703.py:15: FutureWarning: The frame.append method is deprecated and will be removed from pandas in a future version. Use pandas.concat instead.\n",
      "  summary = summary.append({'temperature': temperature,\n"
     ]
    },
    {
     "name": "stdout",
     "output_type": "stream",
     "text": [
      "0.9 -0.5 0\n"
     ]
    },
    {
     "name": "stderr",
     "output_type": "stream",
     "text": [
      "C:\\Users\\ivan\\AppData\\Local\\Temp\\ipykernel_18132\\1245931703.py:15: FutureWarning: The frame.append method is deprecated and will be removed from pandas in a future version. Use pandas.concat instead.\n",
      "  summary = summary.append({'temperature': temperature,\n"
     ]
    },
    {
     "name": "stdout",
     "output_type": "stream",
     "text": [
      "0.9 -0.5 -0.5\n"
     ]
    },
    {
     "name": "stderr",
     "output_type": "stream",
     "text": [
      "C:\\Users\\ivan\\AppData\\Local\\Temp\\ipykernel_18132\\1245931703.py:15: FutureWarning: The frame.append method is deprecated and will be removed from pandas in a future version. Use pandas.concat instead.\n",
      "  summary = summary.append({'temperature': temperature,\n"
     ]
    },
    {
     "name": "stdout",
     "output_type": "stream",
     "text": [
      "1 0.5 0.5\n"
     ]
    },
    {
     "name": "stderr",
     "output_type": "stream",
     "text": [
      "C:\\Users\\ivan\\AppData\\Local\\Temp\\ipykernel_18132\\1245931703.py:15: FutureWarning: The frame.append method is deprecated and will be removed from pandas in a future version. Use pandas.concat instead.\n",
      "  summary = summary.append({'temperature': temperature,\n"
     ]
    },
    {
     "name": "stdout",
     "output_type": "stream",
     "text": [
      "1 0.5 0\n"
     ]
    },
    {
     "name": "stderr",
     "output_type": "stream",
     "text": [
      "C:\\Users\\ivan\\AppData\\Local\\Temp\\ipykernel_18132\\1245931703.py:15: FutureWarning: The frame.append method is deprecated and will be removed from pandas in a future version. Use pandas.concat instead.\n",
      "  summary = summary.append({'temperature': temperature,\n"
     ]
    },
    {
     "name": "stdout",
     "output_type": "stream",
     "text": [
      "1 0.5 -0.5\n"
     ]
    },
    {
     "name": "stderr",
     "output_type": "stream",
     "text": [
      "C:\\Users\\ivan\\AppData\\Local\\Temp\\ipykernel_18132\\1245931703.py:15: FutureWarning: The frame.append method is deprecated and will be removed from pandas in a future version. Use pandas.concat instead.\n",
      "  summary = summary.append({'temperature': temperature,\n"
     ]
    },
    {
     "name": "stdout",
     "output_type": "stream",
     "text": [
      "1 0 0.5\n"
     ]
    },
    {
     "name": "stderr",
     "output_type": "stream",
     "text": [
      "C:\\Users\\ivan\\AppData\\Local\\Temp\\ipykernel_18132\\1245931703.py:15: FutureWarning: The frame.append method is deprecated and will be removed from pandas in a future version. Use pandas.concat instead.\n",
      "  summary = summary.append({'temperature': temperature,\n"
     ]
    },
    {
     "name": "stdout",
     "output_type": "stream",
     "text": [
      "1 0 0\n"
     ]
    },
    {
     "name": "stderr",
     "output_type": "stream",
     "text": [
      "C:\\Users\\ivan\\AppData\\Local\\Temp\\ipykernel_18132\\1245931703.py:15: FutureWarning: The frame.append method is deprecated and will be removed from pandas in a future version. Use pandas.concat instead.\n",
      "  summary = summary.append({'temperature': temperature,\n"
     ]
    },
    {
     "name": "stdout",
     "output_type": "stream",
     "text": [
      "1 0 -0.5\n"
     ]
    },
    {
     "name": "stderr",
     "output_type": "stream",
     "text": [
      "C:\\Users\\ivan\\AppData\\Local\\Temp\\ipykernel_18132\\1245931703.py:15: FutureWarning: The frame.append method is deprecated and will be removed from pandas in a future version. Use pandas.concat instead.\n",
      "  summary = summary.append({'temperature': temperature,\n"
     ]
    },
    {
     "name": "stdout",
     "output_type": "stream",
     "text": [
      "1 -0.5 0.5\n"
     ]
    },
    {
     "name": "stderr",
     "output_type": "stream",
     "text": [
      "C:\\Users\\ivan\\AppData\\Local\\Temp\\ipykernel_18132\\1245931703.py:15: FutureWarning: The frame.append method is deprecated and will be removed from pandas in a future version. Use pandas.concat instead.\n",
      "  summary = summary.append({'temperature': temperature,\n"
     ]
    },
    {
     "name": "stdout",
     "output_type": "stream",
     "text": [
      "1 -0.5 0\n"
     ]
    },
    {
     "name": "stderr",
     "output_type": "stream",
     "text": [
      "C:\\Users\\ivan\\AppData\\Local\\Temp\\ipykernel_18132\\1245931703.py:15: FutureWarning: The frame.append method is deprecated and will be removed from pandas in a future version. Use pandas.concat instead.\n",
      "  summary = summary.append({'temperature': temperature,\n"
     ]
    },
    {
     "name": "stdout",
     "output_type": "stream",
     "text": [
      "1 -0.5 -0.5\n"
     ]
    },
    {
     "name": "stderr",
     "output_type": "stream",
     "text": [
      "C:\\Users\\ivan\\AppData\\Local\\Temp\\ipykernel_18132\\1245931703.py:15: FutureWarning: The frame.append method is deprecated and will be removed from pandas in a future version. Use pandas.concat instead.\n",
      "  summary = summary.append({'temperature': temperature,\n"
     ]
    },
    {
     "name": "stdout",
     "output_type": "stream",
     "text": [
      "1.1 0.5 0.5\n"
     ]
    },
    {
     "name": "stderr",
     "output_type": "stream",
     "text": [
      "C:\\Users\\ivan\\AppData\\Local\\Temp\\ipykernel_18132\\1245931703.py:15: FutureWarning: The frame.append method is deprecated and will be removed from pandas in a future version. Use pandas.concat instead.\n",
      "  summary = summary.append({'temperature': temperature,\n"
     ]
    },
    {
     "name": "stdout",
     "output_type": "stream",
     "text": [
      "1.1 0.5 0\n"
     ]
    },
    {
     "name": "stderr",
     "output_type": "stream",
     "text": [
      "C:\\Users\\ivan\\AppData\\Local\\Temp\\ipykernel_18132\\1245931703.py:15: FutureWarning: The frame.append method is deprecated and will be removed from pandas in a future version. Use pandas.concat instead.\n",
      "  summary = summary.append({'temperature': temperature,\n"
     ]
    },
    {
     "name": "stdout",
     "output_type": "stream",
     "text": [
      "1.1 0.5 -0.5\n"
     ]
    },
    {
     "name": "stderr",
     "output_type": "stream",
     "text": [
      "C:\\Users\\ivan\\AppData\\Local\\Temp\\ipykernel_18132\\1245931703.py:15: FutureWarning: The frame.append method is deprecated and will be removed from pandas in a future version. Use pandas.concat instead.\n",
      "  summary = summary.append({'temperature': temperature,\n"
     ]
    },
    {
     "name": "stdout",
     "output_type": "stream",
     "text": [
      "1.1 0 0.5\n"
     ]
    },
    {
     "name": "stderr",
     "output_type": "stream",
     "text": [
      "C:\\Users\\ivan\\AppData\\Local\\Temp\\ipykernel_18132\\1245931703.py:15: FutureWarning: The frame.append method is deprecated and will be removed from pandas in a future version. Use pandas.concat instead.\n",
      "  summary = summary.append({'temperature': temperature,\n"
     ]
    },
    {
     "name": "stdout",
     "output_type": "stream",
     "text": [
      "1.1 0 0\n"
     ]
    },
    {
     "name": "stderr",
     "output_type": "stream",
     "text": [
      "C:\\Users\\ivan\\AppData\\Local\\Temp\\ipykernel_18132\\1245931703.py:15: FutureWarning: The frame.append method is deprecated and will be removed from pandas in a future version. Use pandas.concat instead.\n",
      "  summary = summary.append({'temperature': temperature,\n"
     ]
    },
    {
     "name": "stdout",
     "output_type": "stream",
     "text": [
      "1.1 0 -0.5\n"
     ]
    },
    {
     "name": "stderr",
     "output_type": "stream",
     "text": [
      "C:\\Users\\ivan\\AppData\\Local\\Temp\\ipykernel_18132\\1245931703.py:15: FutureWarning: The frame.append method is deprecated and will be removed from pandas in a future version. Use pandas.concat instead.\n",
      "  summary = summary.append({'temperature': temperature,\n"
     ]
    },
    {
     "name": "stdout",
     "output_type": "stream",
     "text": [
      "1.1 -0.5 0.5\n"
     ]
    },
    {
     "name": "stderr",
     "output_type": "stream",
     "text": [
      "C:\\Users\\ivan\\AppData\\Local\\Temp\\ipykernel_18132\\1245931703.py:15: FutureWarning: The frame.append method is deprecated and will be removed from pandas in a future version. Use pandas.concat instead.\n",
      "  summary = summary.append({'temperature': temperature,\n"
     ]
    },
    {
     "name": "stdout",
     "output_type": "stream",
     "text": [
      "1.1 -0.5 0\n"
     ]
    },
    {
     "name": "stderr",
     "output_type": "stream",
     "text": [
      "C:\\Users\\ivan\\AppData\\Local\\Temp\\ipykernel_18132\\1245931703.py:15: FutureWarning: The frame.append method is deprecated and will be removed from pandas in a future version. Use pandas.concat instead.\n",
      "  summary = summary.append({'temperature': temperature,\n"
     ]
    },
    {
     "name": "stdout",
     "output_type": "stream",
     "text": [
      "1.1 -0.5 -0.5\n"
     ]
    },
    {
     "name": "stderr",
     "output_type": "stream",
     "text": [
      "C:\\Users\\ivan\\AppData\\Local\\Temp\\ipykernel_18132\\1245931703.py:15: FutureWarning: The frame.append method is deprecated and will be removed from pandas in a future version. Use pandas.concat instead.\n",
      "  summary = summary.append({'temperature': temperature,\n"
     ]
    },
    {
     "name": "stdout",
     "output_type": "stream",
     "text": [
      "1.2 0.5 0.5\n"
     ]
    },
    {
     "name": "stderr",
     "output_type": "stream",
     "text": [
      "C:\\Users\\ivan\\AppData\\Local\\Temp\\ipykernel_18132\\1245931703.py:15: FutureWarning: The frame.append method is deprecated and will be removed from pandas in a future version. Use pandas.concat instead.\n",
      "  summary = summary.append({'temperature': temperature,\n"
     ]
    },
    {
     "name": "stdout",
     "output_type": "stream",
     "text": [
      "1.2 0.5 0\n"
     ]
    },
    {
     "name": "stderr",
     "output_type": "stream",
     "text": [
      "C:\\Users\\ivan\\AppData\\Local\\Temp\\ipykernel_18132\\1245931703.py:15: FutureWarning: The frame.append method is deprecated and will be removed from pandas in a future version. Use pandas.concat instead.\n",
      "  summary = summary.append({'temperature': temperature,\n"
     ]
    },
    {
     "name": "stdout",
     "output_type": "stream",
     "text": [
      "1.2 0.5 -0.5\n"
     ]
    },
    {
     "name": "stderr",
     "output_type": "stream",
     "text": [
      "C:\\Users\\ivan\\AppData\\Local\\Temp\\ipykernel_18132\\1245931703.py:15: FutureWarning: The frame.append method is deprecated and will be removed from pandas in a future version. Use pandas.concat instead.\n",
      "  summary = summary.append({'temperature': temperature,\n"
     ]
    },
    {
     "name": "stdout",
     "output_type": "stream",
     "text": [
      "1.2 0 0.5\n"
     ]
    },
    {
     "name": "stderr",
     "output_type": "stream",
     "text": [
      "C:\\Users\\ivan\\AppData\\Local\\Temp\\ipykernel_18132\\1245931703.py:15: FutureWarning: The frame.append method is deprecated and will be removed from pandas in a future version. Use pandas.concat instead.\n",
      "  summary = summary.append({'temperature': temperature,\n"
     ]
    },
    {
     "name": "stdout",
     "output_type": "stream",
     "text": [
      "1.2 0 0\n"
     ]
    },
    {
     "name": "stderr",
     "output_type": "stream",
     "text": [
      "C:\\Users\\ivan\\AppData\\Local\\Temp\\ipykernel_18132\\1245931703.py:15: FutureWarning: The frame.append method is deprecated and will be removed from pandas in a future version. Use pandas.concat instead.\n",
      "  summary = summary.append({'temperature': temperature,\n"
     ]
    },
    {
     "name": "stdout",
     "output_type": "stream",
     "text": [
      "1.2 0 -0.5\n"
     ]
    },
    {
     "name": "stderr",
     "output_type": "stream",
     "text": [
      "C:\\Users\\ivan\\AppData\\Local\\Temp\\ipykernel_18132\\1245931703.py:15: FutureWarning: The frame.append method is deprecated and will be removed from pandas in a future version. Use pandas.concat instead.\n",
      "  summary = summary.append({'temperature': temperature,\n"
     ]
    },
    {
     "name": "stdout",
     "output_type": "stream",
     "text": [
      "1.2 -0.5 0.5\n"
     ]
    },
    {
     "name": "stderr",
     "output_type": "stream",
     "text": [
      "C:\\Users\\ivan\\AppData\\Local\\Temp\\ipykernel_18132\\1245931703.py:15: FutureWarning: The frame.append method is deprecated and will be removed from pandas in a future version. Use pandas.concat instead.\n",
      "  summary = summary.append({'temperature': temperature,\n"
     ]
    },
    {
     "name": "stdout",
     "output_type": "stream",
     "text": [
      "1.2 -0.5 0\n"
     ]
    },
    {
     "name": "stderr",
     "output_type": "stream",
     "text": [
      "C:\\Users\\ivan\\AppData\\Local\\Temp\\ipykernel_18132\\1245931703.py:15: FutureWarning: The frame.append method is deprecated and will be removed from pandas in a future version. Use pandas.concat instead.\n",
      "  summary = summary.append({'temperature': temperature,\n"
     ]
    },
    {
     "name": "stdout",
     "output_type": "stream",
     "text": [
      "1.2 -0.5 -0.5\n"
     ]
    }
   ],
   "source": [
    "i = 0\n",
    "for temperature in temperatures:\n",
    "    for presence_penalty in presence_penaltys:\n",
    "        for frequency_penalty in frequency_penaltys:\n",
    "            answer = openai.ChatCompletion.create(\n",
    "                model='gpt-3.5-turbo', # модель GPT-3.5, максимальный запрос 4096 токенов, тренировочные данные до сентября 2021 года\n",
    "                messages=[\n",
    "                    {'role': 'system', 'content': 'You are an experienced consultant for an oil and gas company. The main activity of the company is gas production. The company is not engaged in exploration and drilling. The company is preparing for the annual scientific and technical conference for young professionals. Young specialists begin preparations for the conference, looking for the most interesting and promising topics. The main directions of the conference: reducing energy costs, increasing gas production, introducing new technologies, improving labor safety, digitalization, robotization of business processes. You answer only in Russian. You answer briefly and clearly, specifically.'},\n",
    "                    {'role': 'user', 'content': 'Привет. Посоветуй мне 5 тем для конференции. Конкретные темы.'}\n",
    "                ], # массив словарей с историей диалогов\n",
    "                temperature=1, # [0, 2] температура выборки. меньше - точнее, больше - случайнее\n",
    "                n=3, # количество вариантов завершения\n",
    "                presence_penalty=0, # [-2, 2] больше - более разнообразные темы, меньше - более сфокусированный диалог\n",
    "                frequency_penalty=0 # [-2, 2] больше - более разнообразные слова в диалоге, меньше - возможно, точнее, но однообразнее\n",
    "            )\n",
    "            summary = summary.append({'temperature': temperature,\n",
    "                                      'presence_penalty': presence_penalty,\n",
    "                                      'frequency_penalty': frequency_penalty,\n",
    "                                      'answer_1': answer['choices'][0]['message']['content'],\n",
    "                                      'answer_2': answer['choices'][1]['message']['content'],\n",
    "                                      'answer_3': answer['choices'][2]['message']['content']}, ignore_index=True)\n",
    "            i += 1\n",
    "            print(i, temperature, presence_penalty, frequency_penalty)\n",
    "            time.sleep(5)"
   ]
  },
  {
   "cell_type": "code",
   "execution_count": null,
   "id": "4f69ce45-422e-43de-a036-795ae5382f2b",
   "metadata": {},
   "outputs": [],
   "source": []
  },
  {
   "cell_type": "code",
   "execution_count": null,
   "id": "19a0c932-0356-45ae-b3b6-715069942874",
   "metadata": {},
   "outputs": [],
   "source": []
  },
  {
   "cell_type": "code",
   "execution_count": 52,
   "id": "2bf436b3-cfa8-4cad-864b-912b4037b5bb",
   "metadata": {
    "execution": {
     "iopub.execute_input": "2023-03-09T19:39:29.411765Z",
     "iopub.status.busy": "2023-03-09T19:39:29.411765Z",
     "iopub.status.idle": "2023-03-09T19:39:29.427380Z",
     "shell.execute_reply": "2023-03-09T19:39:29.427380Z",
     "shell.execute_reply.started": "2023-03-09T19:39:29.411765Z"
    },
    "tags": []
   },
   "outputs": [
    {
     "data": {
      "text/plain": [
       "'Привет! Рекомендую следующие 5 тем для конференции:\\n1) Внедрение новых технологий для повышения эффективности добычи газа;\\n2) Развитие цифровизации в газовой промышленности и управление данными;\\n3) Использование роботизации для улучшения безопасности рабочих процессов;\\n4) Меры по снижению затрат на производство газа;\\n5) Разработка инновационных методов геологического анализа для оптимизации добычи газа.'"
      ]
     },
     "execution_count": 52,
     "metadata": {},
     "output_type": "execute_result"
    }
   ],
   "source": [
    "answer['choices'][0]['message']['content']"
   ]
  },
  {
   "cell_type": "code",
   "execution_count": 53,
   "id": "84bdfdce-75fd-479e-a885-7172b0a10791",
   "metadata": {
    "execution": {
     "iopub.execute_input": "2023-03-09T19:39:29.427380Z",
     "iopub.status.busy": "2023-03-09T19:39:29.427380Z",
     "iopub.status.idle": "2023-03-09T19:39:29.443000Z",
     "shell.execute_reply": "2023-03-09T19:39:29.443000Z",
     "shell.execute_reply.started": "2023-03-09T19:39:29.427380Z"
    },
    "tags": []
   },
   "outputs": [
    {
     "data": {
      "text/plain": [
       "'Привет! Конкретные темы для конференции могут быть:\\n\\n1. Оптимизация процесса очистки газа для снижения энергозатрат\\n2. Применение новых технологий в добыче газа для увеличения объемов производства\\n3. Оценка новых цифровых решений для повышения оперативности и эффективности бизнес-процессов\\n4. Разработка и внедрение новых систем безопасности для снижения рисков возникновения аварийных ситуаций\\n5. Роботизация и автоматизация производственных процессов для улучшения качества и сокращения времени на производство.'"
      ]
     },
     "execution_count": 53,
     "metadata": {},
     "output_type": "execute_result"
    }
   ],
   "source": [
    "answer['choices'][1]['message']['content']"
   ]
  },
  {
   "cell_type": "code",
   "execution_count": 54,
   "id": "ea278a1d-915f-484e-9e92-8fdf10f2039c",
   "metadata": {
    "execution": {
     "iopub.execute_input": "2023-03-09T19:39:29.443000Z",
     "iopub.status.busy": "2023-03-09T19:39:29.443000Z",
     "iopub.status.idle": "2023-03-09T19:39:29.458630Z",
     "shell.execute_reply": "2023-03-09T19:39:29.458630Z",
     "shell.execute_reply.started": "2023-03-09T19:39:29.443000Z"
    },
    "tags": []
   },
   "outputs": [
    {
     "data": {
      "text/plain": [
       "'Привет! Вот 5 конкретных тем для конференции, которые могут быть интересными и перспективными:\\n\\n1. Оптимизация процессов добычи газа при помощи искусственного интеллекта и аналитики данных.\\n2. Внедрение инновационных технологий для снижения энергозатрат при добыче газа.\\n3. Разработка и внедрение системы контроля за безопасностью труда на газодобывающих предприятиях.\\n4. Перспективы роботизации бизнес-процессов в газовой отрасли.\\n5. Развитие экологически безопасных технологий добычи газа.'"
      ]
     },
     "execution_count": 54,
     "metadata": {},
     "output_type": "execute_result"
    }
   ],
   "source": [
    "answer['choices'][2]['message']['content']"
   ]
  },
  {
   "cell_type": "code",
   "execution_count": null,
   "id": "03cac7c8-312e-48f2-ac0d-402c98c19c75",
   "metadata": {},
   "outputs": [],
   "source": []
  },
  {
   "cell_type": "code",
   "execution_count": null,
   "id": "774cb569-036d-4874-b477-50a3b802a2c6",
   "metadata": {},
   "outputs": [],
   "source": []
  }
 ],
 "metadata": {
  "kernelspec": {
   "display_name": "Python 3 (ipykernel)",
   "language": "python",
   "name": "python3"
  },
  "language_info": {
   "codemirror_mode": {
    "name": "ipython",
    "version": 3
   },
   "file_extension": ".py",
   "mimetype": "text/x-python",
   "name": "python",
   "nbconvert_exporter": "python",
   "pygments_lexer": "ipython3",
   "version": "3.9.13"
  }
 },
 "nbformat": 4,
 "nbformat_minor": 5
}
