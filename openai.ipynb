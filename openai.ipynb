{
 "cells": [
  {
   "cell_type": "code",
   "execution_count": 2,
   "id": "b2e6f3c0-ea1e-446e-97a2-e5d79d6aea55",
   "metadata": {
    "execution": {
     "iopub.execute_input": "2023-03-09T16:23:45.242892Z",
     "iopub.status.busy": "2023-03-09T16:23:45.242892Z",
     "iopub.status.idle": "2023-03-09T16:23:46.865343Z",
     "shell.execute_reply": "2023-03-09T16:23:46.865343Z",
     "shell.execute_reply.started": "2023-03-09T16:23:45.242892Z"
    },
    "tags": []
   },
   "outputs": [],
   "source": [
    "import openai\n",
    "import yaml"
   ]
  },
  {
   "cell_type": "code",
   "execution_count": 4,
   "id": "c19f01df-2cd4-4590-a5a0-42ccffad73e7",
   "metadata": {
    "execution": {
     "iopub.execute_input": "2023-03-09T16:23:55.407741Z",
     "iopub.status.busy": "2023-03-09T16:23:55.407741Z",
     "iopub.status.idle": "2023-03-09T16:23:55.423366Z",
     "shell.execute_reply": "2023-03-09T16:23:55.423366Z",
     "shell.execute_reply.started": "2023-03-09T16:23:55.407741Z"
    },
    "tags": []
   },
   "outputs": [],
   "source": [
    "with open('keys.yaml', 'r') as f:\n",
    "    secrets = yaml.safe_load(f)\n",
    "\n",
    "OPENAI_KEY = secrets.get('OPENAI_KEY')\n",
    "openai.api_key = OPENAI_KEY"
   ]
  },
  {
   "cell_type": "code",
   "execution_count": 19,
   "id": "da80254a-d973-49a8-b906-b2cb0909c512",
   "metadata": {
    "execution": {
     "iopub.execute_input": "2023-03-09T17:01:59.704961Z",
     "iopub.status.busy": "2023-03-09T17:01:59.704961Z",
     "iopub.status.idle": "2023-03-09T17:02:03.653822Z",
     "shell.execute_reply": "2023-03-09T17:02:03.653822Z",
     "shell.execute_reply.started": "2023-03-09T17:01:59.704961Z"
    },
    "tags": []
   },
   "outputs": [],
   "source": [
    "answer = openai.ChatCompletion.create(\n",
    "    model='gpt-3.5-turbo', # модель GPT-3.5, максимальный запрос 4096 токенов, тренировочные данные до сентября 2021 года\n",
    "    messages=[\n",
    "        {'role': 'system', 'content': 'Компания, осуществляющая добычу газа. Ежегодная научно-техническая конференция. Опытный консультант. Отвечает кратко.'},\n",
    "        {'role': 'user', 'content': 'Какую тему ты посоветуешь?'}\n",
    "    ], # массив словарей с историей диалогов\n",
    "    temperature=1, # [0, 2] температура выборки. меньше - точнее, больше - случайнее\n",
    "    n=3, # количество вариантов завершения\n",
    "    presence_penalty=0, # [-2, 2] больше - более разнообразные темы, меньше - более сфокусированный диалог\n",
    "    frequency_penalty=0 # [-2, 2] больше - более разнообразные слова в диалоге, меньше - возможно, точнее, но однообразнее\n",
    ")"
   ]
  },
  {
   "cell_type": "code",
   "execution_count": 20,
   "id": "2bf436b3-cfa8-4cad-864b-912b4037b5bb",
   "metadata": {
    "execution": {
     "iopub.execute_input": "2023-03-09T17:02:06.452087Z",
     "iopub.status.busy": "2023-03-09T17:02:06.452087Z",
     "iopub.status.idle": "2023-03-09T17:02:06.467485Z",
     "shell.execute_reply": "2023-03-09T17:02:06.467485Z",
     "shell.execute_reply.started": "2023-03-09T17:02:06.452087Z"
    },
    "tags": []
   },
   "outputs": [
    {
     "data": {
      "text/plain": [
       "'Безопасность при добыче и транспортировке газа.'"
      ]
     },
     "execution_count": 20,
     "metadata": {},
     "output_type": "execute_result"
    }
   ],
   "source": [
    "answer['choices'][0]['message']['content']"
   ]
  },
  {
   "cell_type": "code",
   "execution_count": 21,
   "id": "84bdfdce-75fd-479e-a885-7172b0a10791",
   "metadata": {
    "execution": {
     "iopub.execute_input": "2023-03-09T17:02:07.065614Z",
     "iopub.status.busy": "2023-03-09T17:02:07.065614Z",
     "iopub.status.idle": "2023-03-09T17:02:07.096882Z",
     "shell.execute_reply": "2023-03-09T17:02:07.096882Z",
     "shell.execute_reply.started": "2023-03-09T17:02:07.065614Z"
    },
    "tags": []
   },
   "outputs": [
    {
     "data": {
      "text/plain": [
       "'Нужно уточнить, для какой из этих трех сущностей (компания, конференция, консультант) ты хочешь выбрать тему.'"
      ]
     },
     "execution_count": 21,
     "metadata": {},
     "output_type": "execute_result"
    }
   ],
   "source": [
    "answer['choices'][1]['message']['content']"
   ]
  },
  {
   "cell_type": "code",
   "execution_count": 22,
   "id": "ea278a1d-915f-484e-9e92-8fdf10f2039c",
   "metadata": {
    "execution": {
     "iopub.execute_input": "2023-03-09T17:02:07.568236Z",
     "iopub.status.busy": "2023-03-09T17:02:07.568236Z",
     "iopub.status.idle": "2023-03-09T17:02:07.583417Z",
     "shell.execute_reply": "2023-03-09T17:02:07.583417Z",
     "shell.execute_reply.started": "2023-03-09T17:02:07.568236Z"
    },
    "tags": []
   },
   "outputs": [
    {
     "data": {
      "text/plain": [
       "'Можно выбрать такую тему как \"Инновационные технологии в добыче газа\".'"
      ]
     },
     "execution_count": 22,
     "metadata": {},
     "output_type": "execute_result"
    }
   ],
   "source": [
    "answer['choices'][2]['message']['content']"
   ]
  }
 ],
 "metadata": {
  "kernelspec": {
   "display_name": "Python 3 (ipykernel)",
   "language": "python",
   "name": "python3"
  },
  "language_info": {
   "codemirror_mode": {
    "name": "ipython",
    "version": 3
   },
   "file_extension": ".py",
   "mimetype": "text/x-python",
   "name": "python",
   "nbconvert_exporter": "python",
   "pygments_lexer": "ipython3",
   "version": "3.9.13"
  }
 },
 "nbformat": 4,
 "nbformat_minor": 5
}
